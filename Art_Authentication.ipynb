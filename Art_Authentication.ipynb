{
  "cells": [
    {
      "cell_type": "code",
      "execution_count": null,
      "metadata": {
        "id": "ezgAYrcknfBK"
      },
      "outputs": [],
      "source": [
        "import numpy as np\n",
        "import seaborn as sns\n",
        "import tensorflow as tf\n",
        "import matplotlib.pyplot as plt\n",
        "from keras import layers, models\n",
        "from keras.preprocessing import image\n",
        "from sklearn.metrics.pairwise import cosine_similarity\n",
        "from keras.preprocessing.image import ImageDataGenerator\n",
        "from keras.applications.vgg16 import VGG16, preprocess_input\n",
        "from sklearn.metrics import confusion_matrix, classification_report"
      ]
    },
    {
      "cell_type": "code",
      "execution_count": null,
      "metadata": {
        "colab": {
          "base_uri": "https://localhost:8080/"
        },
        "id": "lA35xL5pne9w",
        "outputId": "a05217eb-c0f8-4d7c-802e-d5298c056122"
      },
      "outputs": [
        {
          "output_type": "stream",
          "name": "stdout",
          "text": [
            "Found 953 images belonging to 2 classes.\n",
            "Found 316 images belonging to 2 classes.\n",
            "Found 1385 images belonging to 2 classes.\n"
          ]
        }
      ],
      "source": [
        "# Data Loading and Preprocessing\n",
        "train_data_dir = \"/content/drive/MyDrive/art_auth_forged_dataset/training\"\n",
        "test_data_dir = \"/content/drive/MyDrive/art_auth_forged_dataset/testing\"\n",
        "batch_size = 32\n",
        "image_size = (500, 500)\n",
        "\n",
        "# Data Augmentation for Training\n",
        "train_datagen = ImageDataGenerator(\n",
        "    rescale=1./1,\n",
        "    shear_range=0,\n",
        "    zoom_range=0,\n",
        "    horizontal_flip=False,\n",
        "    validation_split=0.25\n",
        ")\n",
        "test_datagen = ImageDataGenerator(\n",
        "    rescale=1./1,\n",
        "    shear_range=0,\n",
        "    zoom_range=0,\n",
        "    horizontal_flip=False,\n",
        "    validation_split=0\n",
        ")\n",
        "\n",
        "train_data = train_datagen.flow_from_directory(\n",
        "    train_data_dir,\n",
        "    target_size=image_size,\n",
        "    batch_size=batch_size,\n",
        "    class_mode='binary',  # Assuming binary classification (authentic or forged)\n",
        "    subset='training'\n",
        ")\n",
        "\n",
        "validation_data = train_datagen.flow_from_directory(\n",
        "    train_data_dir,\n",
        "    target_size=image_size,\n",
        "    batch_size=batch_size,\n",
        "    class_mode='binary',\n",
        "    subset='validation'\n",
        ")\n",
        "\n",
        "test_data = test_datagen.flow_from_directory(\n",
        "    test_data_dir,\n",
        "    target_size=image_size,\n",
        "    batch_size=batch_size,\n",
        "    class_mode='binary',\n",
        "    subset='training'\n",
        ")"
      ]
    },
    {
      "cell_type": "code",
      "execution_count": null,
      "metadata": {
        "id": "e6jKqEWjosB2"
      },
      "outputs": [],
      "source": [
        "# Model Building\n",
        "model = models.Sequential()\n",
        "model.add(layers.Conv2D(32, (3, 3), activation='relu', input_shape=(500, 500, 3)))\n",
        "model.add(layers.MaxPooling2D((2, 2)))\n",
        "model.add(layers.Conv2D(64, (3, 3), activation='relu'))\n",
        "model.add(layers.MaxPooling2D((2, 2)))\n",
        "model.add(layers.Conv2D(128, (3, 3), activation='relu'))\n",
        "model.add(layers.MaxPooling2D((2, 2)))\n",
        "model.add(layers.Flatten())\n",
        "model.add(layers.Dense(128, activation='relu'))\n",
        "model.add(layers.Dense(1, activation='sigmoid'))  # Binary classification\n",
        "\n",
        "# Model Compilation\n",
        "model.compile(optimizer='adam', loss='binary_crossentropy', metrics=['accuracy'])\n",
        "\n"
      ]
    },
    {
      "cell_type": "code",
      "source": [
        "from google.colab import drive\n",
        "drive.mount('/content/drive')"
      ],
      "metadata": {
        "id": "omwarXAd5TNA",
        "colab": {
          "base_uri": "https://localhost:8080/"
        },
        "outputId": "27a44185-cd4a-4527-e113-8a0390b33073"
      },
      "execution_count": null,
      "outputs": [
        {
          "output_type": "stream",
          "name": "stdout",
          "text": [
            "Mounted at /content/drive\n"
          ]
        }
      ]
    },
    {
      "cell_type": "code",
      "execution_count": null,
      "metadata": {
        "colab": {
          "base_uri": "https://localhost:8080/"
        },
        "id": "hpyqMX-9AHr1",
        "outputId": "39a03caa-2e70-47f9-d528-a132c9b3afd6"
      },
      "outputs": [
        {
          "name": "stdout",
          "output_type": "stream",
          "text": [
            "Epoch 1/30\n",
            "30/30 [==============================] - 21s 625ms/step - loss: 1052.9916 - accuracy: 0.7503 - val_loss: 1.3297 - val_accuracy: 0.8734\n",
            "Epoch 2/30\n",
            "30/30 [==============================] - 15s 498ms/step - loss: 0.5267 - accuracy: 0.8646 - val_loss: 0.7761 - val_accuracy: 0.8639\n",
            "Epoch 3/30\n",
            "30/30 [==============================] - 16s 528ms/step - loss: 0.4985 - accuracy: 0.8562 - val_loss: 0.8017 - val_accuracy: 0.8449\n",
            "Epoch 4/30\n",
            "30/30 [==============================] - 17s 553ms/step - loss: 0.3831 - accuracy: 0.8751 - val_loss: 1.0340 - val_accuracy: 0.8513\n",
            "Epoch 5/30\n",
            "30/30 [==============================] - 15s 489ms/step - loss: 0.3134 - accuracy: 0.8762 - val_loss: 0.9537 - val_accuracy: 0.8481\n",
            "Epoch 6/30\n",
            "30/30 [==============================] - 15s 497ms/step - loss: 0.3117 - accuracy: 0.8825 - val_loss: 1.4437 - val_accuracy: 0.8165\n",
            "Epoch 7/30\n",
            "30/30 [==============================] - 15s 497ms/step - loss: 0.2789 - accuracy: 0.8814 - val_loss: 0.8844 - val_accuracy: 0.8165\n",
            "Epoch 8/30\n",
            "30/30 [==============================] - 17s 556ms/step - loss: 0.2480 - accuracy: 0.8856 - val_loss: 1.3038 - val_accuracy: 0.7943\n",
            "Epoch 9/30\n",
            "30/30 [==============================] - 15s 494ms/step - loss: 0.2259 - accuracy: 0.8930 - val_loss: 1.9539 - val_accuracy: 0.8165\n",
            "Epoch 10/30\n",
            "30/30 [==============================] - 15s 501ms/step - loss: 0.2555 - accuracy: 0.8972 - val_loss: 0.7756 - val_accuracy: 0.7911\n",
            "Epoch 11/30\n",
            "30/30 [==============================] - 15s 503ms/step - loss: 0.2194 - accuracy: 0.9003 - val_loss: 1.8384 - val_accuracy: 0.7911\n",
            "Epoch 12/30\n",
            "30/30 [==============================] - 17s 559ms/step - loss: 0.2036 - accuracy: 0.8972 - val_loss: 1.0381 - val_accuracy: 0.7880\n",
            "Epoch 13/30\n",
            "30/30 [==============================] - 15s 497ms/step - loss: 0.1987 - accuracy: 0.9024 - val_loss: 0.7907 - val_accuracy: 0.7975\n",
            "Epoch 14/30\n",
            "30/30 [==============================] - 15s 502ms/step - loss: 0.1837 - accuracy: 0.8961 - val_loss: 1.2207 - val_accuracy: 0.7848\n",
            "Epoch 15/30\n",
            "30/30 [==============================] - 15s 506ms/step - loss: 0.1831 - accuracy: 0.9098 - val_loss: 1.4104 - val_accuracy: 0.7880\n",
            "Epoch 16/30\n",
            "30/30 [==============================] - 17s 559ms/step - loss: 0.1805 - accuracy: 0.8961 - val_loss: 1.3782 - val_accuracy: 0.7848\n",
            "Epoch 17/30\n",
            "30/30 [==============================] - 16s 536ms/step - loss: 0.1685 - accuracy: 0.8940 - val_loss: 0.9462 - val_accuracy: 0.7848\n",
            "Epoch 18/30\n",
            "30/30 [==============================] - 15s 501ms/step - loss: 0.1662 - accuracy: 0.9066 - val_loss: 1.7951 - val_accuracy: 0.7785\n",
            "Epoch 19/30\n",
            "30/30 [==============================] - 17s 566ms/step - loss: 0.1694 - accuracy: 0.8993 - val_loss: 1.4877 - val_accuracy: 0.7785\n",
            "Epoch 20/30\n",
            "30/30 [==============================] - 15s 507ms/step - loss: 0.1666 - accuracy: 0.8982 - val_loss: 0.9733 - val_accuracy: 0.7722\n",
            "Epoch 21/30\n",
            "30/30 [==============================] - 15s 500ms/step - loss: 0.1620 - accuracy: 0.9056 - val_loss: 1.5339 - val_accuracy: 0.7785\n",
            "Epoch 22/30\n",
            "30/30 [==============================] - 15s 501ms/step - loss: 0.1648 - accuracy: 0.9003 - val_loss: 1.1422 - val_accuracy: 0.7722\n",
            "Epoch 23/30\n",
            "30/30 [==============================] - 15s 506ms/step - loss: 0.1599 - accuracy: 0.9003 - val_loss: 1.1017 - val_accuracy: 0.7816\n",
            "Epoch 24/30\n",
            "30/30 [==============================] - 17s 562ms/step - loss: 0.1538 - accuracy: 0.9014 - val_loss: 1.9451 - val_accuracy: 0.7753\n",
            "Epoch 25/30\n",
            "30/30 [==============================] - 15s 496ms/step - loss: 0.1558 - accuracy: 0.8982 - val_loss: 1.3060 - val_accuracy: 0.7722\n",
            "Epoch 26/30\n",
            "30/30 [==============================] - 15s 497ms/step - loss: 0.1687 - accuracy: 0.9014 - val_loss: 1.0622 - val_accuracy: 0.7722\n",
            "Epoch 27/30\n",
            "30/30 [==============================] - 15s 503ms/step - loss: 0.1466 - accuracy: 0.8993 - val_loss: 1.2205 - val_accuracy: 0.7690\n",
            "Epoch 28/30\n",
            "30/30 [==============================] - 15s 502ms/step - loss: 0.1446 - accuracy: 0.8951 - val_loss: 2.0954 - val_accuracy: 0.7658\n",
            "Epoch 29/30\n",
            "30/30 [==============================] - 15s 512ms/step - loss: 0.1453 - accuracy: 0.9066 - val_loss: 0.8060 - val_accuracy: 0.7785\n",
            "Epoch 30/30\n",
            "30/30 [==============================] - 15s 506ms/step - loss: 0.1467 - accuracy: 0.9024 - val_loss: 1.4019 - val_accuracy: 0.7690\n",
            "44/44 [==============================] - 337s 8s/step - loss: 1.2223 - accuracy: 0.8462\n",
            "Test Accuracy: 0.8462094068527222\n"
          ]
        }
      ],
      "source": [
        "# Model Training\n",
        "epochs = 30\n",
        "history = model.fit(\n",
        "    train_data,\n",
        "    epochs=epochs,\n",
        "    validation_data=validation_data\n",
        ")\n",
        "\n",
        "# Evaluate the model\n",
        "test_loss, test_acc = model.evaluate(test_data)\n",
        "print(f'Test Accuracy: {test_acc}')\n",
        "\n",
        "# Save the model\n",
        "model.save(\"/content/drive/MyDrive/art_authentication_model(1).keras\")"
      ]
    },
    {
      "cell_type": "code",
      "execution_count": null,
      "metadata": {
        "colab": {
          "base_uri": "https://localhost:8080/"
        },
        "id": "1C66xm_3rEMC",
        "outputId": "b60e71d2-b3eb-40a9-a7a4-079f09201a2e"
      },
      "outputs": [
        {
          "output_type": "stream",
          "name": "stdout",
          "text": [
            "44/44 [==============================] - 369s 8s/step\n"
          ]
        }
      ],
      "source": [
        "# Load the model and test data\n",
        "model = tf.keras.models.load_model('/content/drive/MyDrive/art_authentication_model(1).keras')\n",
        "\n",
        "y_true = test_data.classes\n",
        "# Generate predictions\n",
        "y_pred = model.predict(test_data)"
      ]
    },
    {
      "cell_type": "code",
      "execution_count": null,
      "metadata": {
        "colab": {
          "base_uri": "https://localhost:8080/",
          "height": 746
        },
        "id": "q4Z0z1JnEAmS",
        "outputId": "3fdb659b-734f-471b-aa08-36b5e9e76741"
      },
      "outputs": [
        {
          "output_type": "stream",
          "name": "stdout",
          "text": [
            "44/44 [==============================] - 253s 6s/step - loss: 1.2223 - accuracy: 0.8462\n",
            "Test Accuracy: 0.8462094068527222\n",
            "Classification Report:\n",
            "               precision    recall  f1-score   support\n",
            "\n",
            "           0       0.90      0.92      0.91      1246\n",
            "           1       0.08      0.06      0.07       139\n",
            "\n",
            "    accuracy                           0.83      1385\n",
            "   macro avg       0.49      0.49      0.49      1385\n",
            "weighted avg       0.82      0.83      0.82      1385\n",
            "\n",
            "Confusion Matrix:\n",
            " [[1148   98]\n",
            " [ 131    8]]\n"
          ]
        },
        {
          "output_type": "display_data",
          "data": {
            "text/plain": [
              "<Figure size 640x480 with 2 Axes>"
            ],
            "image/png": "[encoded data removed]"
          },
          "metadata": {}
        }
      ],
      "source": [
        "# Threshold for binary classification\n",
        "threshold = 0.5\n",
        "\n",
        "# Convert probabilities to binary predictions\n",
        "y_pred_binary = (y_pred > threshold).astype(int)\n",
        "\n",
        "# Evaluate the model\n",
        "test_loss, test_acc = model.evaluate(test_data)\n",
        "print(f'Test Accuracy: {test_acc}')\n",
        "\n",
        "# Print classification report and confusion matrix\n",
        "print(\"Classification Report:\\n\", classification_report(y_true, y_pred_binary))\n",
        "conf_matrix = confusion_matrix(y_true, y_pred_binary)\n",
        "print(\"Confusion Matrix:\\n\", conf_matrix)\n",
        "\n",
        "# Visualize confusion matrix\n",
        "sns.heatmap(conf_matrix, annot=True, fmt='d', cmap='Blues', xticklabels=['Authentic', 'Forged'], yticklabels=['Authentic', 'Forged'])\n",
        "plt.xlabel('Predicted')\n",
        "plt.ylabel('True')\n",
        "plt.title('Confusion Matrix')\n",
        "plt.show()\n"
      ]
    },
    {
      "cell_type": "code",
      "execution_count": null,
      "metadata": {
        "id": "OSLcMQx5rCw8"
      },
      "outputs": [],
      "source": [
        "import cv2\n",
        "import numpy as np\n",
        "from keras.preprocessing import image\n",
        "from keras.applications.vgg16 import VGG16\n",
        "from keras.applications.vgg16 import preprocess_input\n",
        "from sklearn.metrics.pairwise import cosine_similarity"
      ]
    },
    {
      "cell_type": "code",
      "execution_count": null,
      "metadata": {
        "id": "VwjGeEj-rOCj"
      },
      "outputs": [],
      "source": [
        "# Function to detect rotation between two images\n",
        "def detect_rotation(image1_path, image2_path):\n",
        "    # Load images\n",
        "    image1 = cv2.imread(image1_path, cv2.IMREAD_GRAYSCALE)\n",
        "    image2 = cv2.imread(image2_path, cv2.IMREAD_GRAYSCALE)\n",
        "\n",
        "    # Apply color filter to one of the images\n",
        "    image1_filtered = cv2.cvtColor(image1, cv2.COLOR_GRAY2BGR)  # Convert grayscale to BGR\n",
        "    image1_filtered[:, :, 1:3] = 0  # Set green and red channels to 0"
      ]
    },
    {
      "cell_type": "code",
      "execution_count": null,
      "metadata": {
        "id": "5Dy5vT89o7h3",
        "colab": {
          "base_uri": "https://localhost:8080/"
        },
        "outputId": "6361af63-d495-46ce-873a-bd330bfc2f4b"
      },
      "outputs": [
        {
          "output_type": "stream",
          "name": "stdout",
          "text": [
            "Enter the path to the first image: /content/Photo 1 - Coloured.jpg\n",
            "Enter the path to the second image: /content/Photo coloured.jpg\n",
            "1/1 [==============================] - 0s 119ms/step\n",
            "1/1 [==============================] - 0s 17ms/step\n",
            "Cosine Similarity: 0.7779463529586792\n",
            "Percentage of Matching: 77.79463529586792%\n",
            "The images are duplicates.\n"
          ]
        }
      ],
      "source": [
        "\n",
        "# Load pre-trained VGG16 model\n",
        "base_model = VGG16(weights='imagenet', include_top=False)\n",
        "\n",
        "# Function to extract features from an image\n",
        "def extract_features(img_path, model):\n",
        "    img = image.load_img(img_path, target_size=(224, 224))\n",
        "    img_array = image.img_to_array(img)\n",
        "    img_array = np.expand_dims(img_array, axis=0)\n",
        "    img_array = preprocess_input(img_array)\n",
        "    features = model.predict(img_array)\n",
        "    return features.flatten()\n",
        "\n",
        "# Function to calculate cosine similarity between two images\n",
        "def calculate_similarity(img1_features, img2_features):\n",
        "    img1_features = img1_features.reshape(1, -1)\n",
        "    img2_features = img2_features.reshape(1, -1)\n",
        "    similarity = cosine_similarity(img1_features, img2_features)\n",
        "    return similarity[0][0]\n",
        "\n",
        "\n",
        "\n",
        "    # Step 1: Feature Extraction\n",
        "    orb = cv2.ORB_create()\n",
        "    kp1, des1 = orb.detectAndCompute(image1_filtered, None)\n",
        "    kp2, des2 = orb.detectAndCompute(image2, None)\n",
        "\n",
        "    # Step 2: Feature Matching\n",
        "    bf = cv2.BFMatcher(cv2.NORM_HAMMING, crossCheck=True)\n",
        "    matches = bf.match(des1, des2)\n",
        "\n",
        "    # Step 3: Homography Estimation\n",
        "    if len(matches) > 4:\n",
        "        src_pts = np.float32([kp1[m.queryIdx].pt for m in matches]).reshape(-1, 1, 2)\n",
        "        dst_pts = np.float32([kp2[m.trainIdx].pt for m in matches]).reshape(-1, 1, 2)\n",
        "        M, _ = cv2.findHomography(src_pts, dst_pts, cv2.RANSAC, 5.0)\n",
        "\n",
        "        # Step 4: Check Rotation\n",
        "        angle = np.degrees(np.arctan2(M[1, 0], M[0, 0])) % 360\n",
        "        if 85 < angle < 95 or 265 < angle < 275:\n",
        "            print(\"Images are equal with rotation\")\n",
        "        else:\n",
        "            print(\"Images are not equal or rotation is not dominant\")\n",
        "\n",
        "# Get paths to two images from the user\n",
        "image1_path = input(\"Enter the path to the first image: \")\n",
        "image2_path = input(\"Enter the path to the second image: \")\n",
        "\n",
        "# Extract features from both images\n",
        "img1_features = extract_features(image1_path, base_model)\n",
        "img2_features = extract_features(image2_path, base_model)\n",
        "\n",
        "# Calculate cosine similarity\n",
        "similarity = calculate_similarity(img1_features, img2_features)\n",
        "\n",
        "# Print the similarity score\n",
        "print(f\"Cosine Similarity: {similarity}\")\n",
        "\n",
        "# Print the percentage of matching\n",
        "percentage_matching = similarity * 100\n",
        "print(f\"Percentage of Matching: {percentage_matching}%\")\n",
        "\n",
        "# Set a threshold for similarity to determine if images are duplicates\n",
        "threshold = 0.75  # You can adjust this threshold based on your requirements\n",
        "\n",
        "if similarity >= 0.75:\n",
        "    print(\"The images are duplicates.\")\n",
        "elif similarity >= 0.5:\n",
        "    print(\"The images are likely duplicates.\")\n",
        "else:\n",
        "    print(\"The images are not duplicates.\")\n",
        "\n",
        "# Call the function to detect rotation\n",
        "detect_rotation(image1_path, image2_path)\n"
      ]
    }
  ],
  "metadata": {
    "accelerator": "GPU",
    "colab": {
      "gpuType": "T4",
      "provenance": []
    },
    "kernelspec": {
      "display_name": "Python 3",
      "name": "python3"
    },
    "language_info": {
      "name": "python"
    }
  },
  "nbformat": 4,
  "nbformat_minor": 0
}